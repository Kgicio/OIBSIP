{
 "cells": [
  {
   "cell_type": "code",
   "execution_count": 2,
   "id": "0d6570fc",
   "metadata": {},
   "outputs": [
    {
     "data": {
      "text/plain": [
       "{'Accuracy': 0.9422610829881883,\n",
       " 'Classification Report': '              precision    recall  f1-score   support\\n\\n        -1.0       0.92      0.87      0.90      7230\\n         0.0       0.95      0.98      0.96     10961\\n         1.0       0.95      0.95      0.95     14404\\n\\n    accuracy                           0.94     32595\\n   macro avg       0.94      0.93      0.94     32595\\nweighted avg       0.94      0.94      0.94     32595\\n',\n",
       " 'Confusion Matrix': array([[ 6317,   272,   641],\n",
       "        [   95, 10737,   129],\n",
       "        [  451,   294, 13659]], dtype=int64)}"
      ]
     },
     "execution_count": 2,
     "metadata": {},
     "output_type": "execute_result"
    }
   ],
   "source": [
    "import pandas as pd\n",
    "import re\n",
    "from sklearn.model_selection import train_test_split\n",
    "from sklearn.feature_extraction.text import TfidfVectorizer\n",
    "from sklearn.svm import LinearSVC\n",
    "from sklearn.metrics import accuracy_score, classification_report, confusion_matrix\n",
    "import matplotlib.pyplot as plt\n",
    "import seaborn as sns\n",
    "\n",
    "# Load the dataset\n",
    "file_path = 'C:/Users/User/OIBSIP/sentiment_analysis/data/Twitter_Data.csv/Twitter_Data.csv'\n",
    "data = pd.read_csv(file_path)\n",
    "\n",
    "# Preprocessing function\n",
    "def preprocess_text_safe(text):\n",
    "    if isinstance(text, str):\n",
    "        # Lowercase the text\n",
    "        text = text.lower()\n",
    "        # Remove URLs\n",
    "        text = re.sub(r'http\\S+', '', text)\n",
    "        # Remove punctuation and numbers\n",
    "        text = re.sub(r'[^a-z\\s]', '', text)\n",
    "        # Tokenize and remove stop words manually\n",
    "        stop_words = set(['the', 'is', 'in', 'and', 'to', 'has', 'that', 'with', 'for', 'it', 'as', 'on', 'at', 'this', 'by', 'an', 'be', 'or', 'are', 'was', 'from'])\n",
    "        tokens = text.split()\n",
    "        tokens = [word for word in tokens if word not in stop_words]\n",
    "        return ' '.join(tokens)\n",
    "    else:\n",
    "        return \"\"\n",
    "\n",
    "# Apply preprocessing\n",
    "data['processed_text'] = data['clean_text'].apply(preprocess_text_safe)\n",
    "\n",
    "# Drop rows with missing values in 'category'\n",
    "data = data.dropna(subset=['category'])\n",
    "\n",
    "# Define features and labels\n",
    "X = data['processed_text']\n",
    "y = data['category']\n",
    "\n",
    "# Split the data\n",
    "X_train, X_test, y_train, y_test = train_test_split(X, y, test_size=0.2, random_state=42)\n",
    "\n",
    "# Vectorize the text data\n",
    "vectorizer = TfidfVectorizer(max_features=5000)\n",
    "X_train_tfidf = vectorizer.fit_transform(X_train)\n",
    "X_test_tfidf = vectorizer.transform(X_test)\n",
    "\n",
    "# Initialize and train the model\n",
    "model = LinearSVC()\n",
    "model.fit(X_train_tfidf, y_train)\n",
    "\n",
    "# Make predictions\n",
    "y_pred = model.predict(X_test_tfidf)\n",
    "\n",
    "# Evaluate the model\n",
    "accuracy = accuracy_score(y_test, y_pred)\n",
    "report = classification_report(y_test, y_pred)\n",
    "conf_matrix = confusion_matrix(y_test, y_pred)\n",
    "\n",
    "# Print the evaluation results\n",
    "evaluation_results = {\n",
    "    'Accuracy': accuracy,\n",
    "    'Classification Report': report,\n",
    "    'Confusion Matrix': conf_matrix\n",
    "}\n",
    "\n",
    "evaluation_results\n"
   ]
  },
  {
   "cell_type": "code",
   "execution_count": null,
   "id": "600fb538",
   "metadata": {},
   "outputs": [],
   "source": []
  }
 ],
 "metadata": {
  "kernelspec": {
   "display_name": "Python 3 (ipykernel)",
   "language": "python",
   "name": "python3"
  },
  "language_info": {
   "codemirror_mode": {
    "name": "ipython",
    "version": 3
   },
   "file_extension": ".py",
   "mimetype": "text/x-python",
   "name": "python",
   "nbconvert_exporter": "python",
   "pygments_lexer": "ipython3",
   "version": "3.11.4"
  }
 },
 "nbformat": 4,
 "nbformat_minor": 5
}
